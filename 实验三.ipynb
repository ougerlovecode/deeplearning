{
  "nbformat": 4,
  "nbformat_minor": 0,
  "metadata": {
    "colab": {
      "name": "实验三.ipynb",
      "provenance": [],
      "collapsed_sections": [],
      "mount_file_id": "1z9k-5p0HwV-zoR-Wnjm-gxY92ew8yPJT",
      "authorship_tag": "ABX9TyNoaN1n1CY01LwrhaMu+2fr",
      "include_colab_link": true
    },
    "kernelspec": {
      "name": "python3",
      "display_name": "Python 3"
    },
    "language_info": {
      "name": "python"
    },
    "accelerator": "GPU"
  },
  "cells": [
    {
      "cell_type": "markdown",
      "metadata": {
        "id": "view-in-github",
        "colab_type": "text"
      },
      "source": [
        "<a href=\"https://colab.research.google.com/github/ougerlovecode/deeplearning/blob/main/%E5%AE%9E%E9%AA%8C%E4%B8%89.ipynb\" target=\"_parent\"><img src=\"https://colab.research.google.com/assets/colab-badge.svg\" alt=\"Open In Colab\"/></a>"
      ]
    },
    {
      "cell_type": "code",
      "execution_count": 4,
      "metadata": {
        "id": "HyMd_vrq7VbX"
      },
      "outputs": [],
      "source": [
        "from zipfile import ZipFile\n",
        "z = ZipFile('/content/drive/MyDrive/Colab Notebooks/实验3材料.zip')\n",
        "z.extractall('/content/drive/MyDrive/Colab Notebooks/')"
      ]
    },
    {
      "cell_type": "code",
      "source": [
        "!python '/content/drive/MyDrive/Colab Notebooks/Exp3/Exp3-Code/Exp3_Main.py'"
      ],
      "metadata": {
        "colab": {
          "base_uri": "https://localhost:8080/"
        },
        "id": "aCLuUJJz8LT1",
        "outputId": "1d651c93-c2fc-47b4-84d9-fe1656c78afd"
      },
      "execution_count": null,
      "outputs": [
        {
          "output_type": "stream",
          "name": "stdout",
          "text": [
            "Error: no checkpoint directory found!\n",
            "start epoch 0\n",
            "start training\n",
            "\r  0% 0/573 [00:00<?, ?it/s]Building prefix dict from the default dictionary ...\n",
            "Dumping model to file cache /tmp/jieba.cache\n",
            "Loading model cost 0.889 seconds.\n",
            "Prefix dict has been built successfully.\n",
            "pred tensor([ 3, 10, 22, 15, 22, 22, 21, 10, 22, 15,  7, 22, 25, 25,  3,  3, 15, 13,\n",
            "        10, 10, 10,  7, 15, 10, 22, 22, 15, 25, 10, 41, 15, 22, 22,  3, 23,  3,\n",
            "        10, 13, 22, 22, 12, 22, 37, 25, 15, 22, 22, 22, 15, 15, 22, 23,  3, 10,\n",
            "        25, 15, 22, 22, 25, 41, 37, 22,  3, 15], device='cuda:0')\n",
            "label tensor([30, 34,  7,  1, 11,  7, 37,  1, 39, 14,  0, 25, 42,  7, 34,  7, 37,  4,\n",
            "        11,  7, 18, 38, 38,  0,  7, 30, 42, 24, 39, 11,  7,  7, 34, 38, 30, 42,\n",
            "         7, 24, 25, 34, 43, 37, 43, 42, 38, 30, 37, 38, 39, 22,  7, 37, 30, 11,\n",
            "        37, 37,  7, 21, 31,  8, 38,  7,  7,  7], device='cuda:0')\n",
            "  0% 1/573 [03:49<36:31:42, 229.90s/it]pred tensor([30,  7,  7, 42, 38,  7,  7,  7, 37, 42, 37, 37,  7, 37,  7,  7, 38, 37,\n",
            "         7,  7,  7,  7,  7,  7,  7, 37,  7,  7, 37,  7, 37, 37,  7, 38,  7,  7,\n",
            "         7,  7,  7,  7, 37,  7, 37,  7,  7,  7,  7,  7, 42, 38, 37,  7, 37,  7,\n",
            "        37,  7, 37,  7,  7,  7,  7,  7,  7, 37], device='cuda:0')\n",
            "label tensor([ 7,  7, 11, 30, 42, 11,  7, 37, 30, 38, 20,  7,  7,  7, 11, 25, 39, 37,\n",
            "         9, 11, 18,  7, 37, 39,  5, 37, 25, 30, 39, 17,  7,  9, 26,  0, 30, 30,\n",
            "        39,  7, 16,  7, 25,  7,  9,  7, 30, 18,  7,  7,  7, 42,  0, 42, 30, 11,\n",
            "        30, 34, 25, 38, 17, 38,  7,  5, 22, 25], device='cuda:0')\n",
            "  0% 2/573 [07:48<37:16:36, 235.02s/it]"
          ]
        }
      ]
    }
  ]
}